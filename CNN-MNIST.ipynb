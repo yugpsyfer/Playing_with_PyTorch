{
  "nbformat": 4,
  "nbformat_minor": 0,
  "metadata": {
    "colab": {
      "name": "Deep_Learning_pytorch.ipynb",
      "provenance": [],
      "collapsed_sections": [],
      "machine_shape": "hm",
      "authorship_tag": "ABX9TyMfG4oQC8OjzziDdBbz3pXJ",
      "include_colab_link": true
    },
    "kernelspec": {
      "name": "python3",
      "display_name": "Python 3"
    },
    "language_info": {
      "name": "python"
    },
    "accelerator": "GPU"
  },
  "cells": [
    {
      "cell_type": "markdown",
      "metadata": {
        "id": "view-in-github",
        "colab_type": "text"
      },
      "source": [
        "<a href=\"https://colab.research.google.com/github/yugpsyfer/Playing_with_PyTorch/blob/main/Deep_Learning_pytorch.ipynb\" target=\"_parent\"><img src=\"https://colab.research.google.com/assets/colab-badge.svg\" alt=\"Open In Colab\"/></a>"
      ]
    },
    {
      "cell_type": "markdown",
      "source": [
        "##ONLY REQUIRED ONCE"
      ],
      "metadata": {
        "id": "QT5p_3uu51xW"
      }
    },
    {
      "cell_type": "code",
      "execution_count": null,
      "metadata": {
        "id": "Q8WUuCPcm5Jv"
      },
      "outputs": [],
      "source": [
        "# !pip3 install torch==1.2.0+cu92 torchvision==0.4.0+cu92 -f https://download.pytorch.org/whl/torch_stable.html"
      ]
    },
    {
      "cell_type": "markdown",
      "source": [
        "# Import necessary libraries"
      ],
      "metadata": {
        "id": "PabXwXxk23q1"
      }
    },
    {
      "cell_type": "code",
      "source": [
        "import torch\n",
        "import torchvision\n",
        "from torchvision.datasets import MNIST\n",
        "import torchvision.transforms as transforms\n",
        "from torch.utils.data import random_split\n",
        "from torch.utils.data import DataLoader\n",
        "import torch.nn as nn\n",
        "import  torch.nn.functional as F\n",
        "from google.colab import drive\n",
        "drive._mount('/content/drive')"
      ],
      "metadata": {
        "id": "sESFkLHUdYn_",
        "colab": {
          "base_uri": "https://localhost:8080/"
        },
        "outputId": "c2996c7e-babb-43d1-a32d-6bd98f7eea1f"
      },
      "execution_count": null,
      "outputs": [
        {
          "output_type": "stream",
          "name": "stdout",
          "text": [
            "Drive already mounted at /content/drive; to attempt to forcibly remount, call drive.mount(\"/content/drive\", force_remount=True).\n"
          ]
        }
      ]
    },
    {
      "cell_type": "markdown",
      "source": [
        "# ***root*** stands for the root folder where you would want to save the MNIST dataset"
      ],
      "metadata": {
        "id": "2U7mivEn31bk"
      }
    },
    {
      "cell_type": "code",
      "source": [
        "root = '' #The folder where MNIST data will be downloaded and saved\n",
        "\n",
        "# dataset = MNIST(root=root, download=True)\n",
        "test_dataset = MNIST(root=root, train=False)\n",
        "dataset = MNIST(root=root,train=True,transform=transforms.ToTensor())"
      ],
      "metadata": {
        "id": "8OGUdHWFAlxb"
      },
      "execution_count": null,
      "outputs": []
    },
    {
      "cell_type": "code",
      "source": [
        "img_tensor, label = dataset[0]\n",
        "print(img_tensor.shape,label)"
      ],
      "metadata": {
        "id": "UoTFRvy0BRNb",
        "colab": {
          "base_uri": "https://localhost:8080/"
        },
        "outputId": "375acd62-1187-4c1c-e535-6e83ed71e834"
      },
      "execution_count": null,
      "outputs": [
        {
          "output_type": "stream",
          "name": "stdout",
          "text": [
            "torch.Size([1, 28, 28]) 5\n"
          ]
        }
      ]
    },
    {
      "cell_type": "markdown",
      "source": [
        "Split the dataset\\\n",
        "Here I have taken a split 50K as train and 10K as test\\\n",
        "The batch size here is 128, since SGD is being used as the optimizer\\\n",
        "*input_size* determines the input layer size\\\n",
        "*num_classes* is for categories, Mnist has multiple categories"
      ],
      "metadata": {
        "id": "jI3hrCtM4CQ8"
      }
    },
    {
      "cell_type": "code",
      "source": [
        "train_ds,test_ds = random_split(dataset,[50000,10000])\n",
        "batch_size = 128\n",
        "train_loader = DataLoader(train_ds,batch_size,shuffle=True)\n",
        "test_loader = DataLoader(test_ds,batch_size)\n",
        "input_size = 28*28\n",
        "num_classes= 10"
      ],
      "metadata": {
        "id": "uMbA3hMLBjza"
      },
      "execution_count": null,
      "outputs": []
    },
    {
      "cell_type": "code",
      "source": [
        "class MNISTmodel(nn.Module):\n",
        "  def __init__(self,in_feature,out_feature,learning_rate,optimization_funtion,train_batches,test_batches,hidden_nodes,epochs=100):\n",
        "    super().__init__()\n",
        "    self.linear_layer_1 = nn.Linear(in_feature,hidden_nodes)\n",
        "    self.linear_layer_2 = nn.Linear(hidden_nodes,out_feature)\n",
        "    self.learning_rate = learning_rate\n",
        "    self.optimization_funtion = optimization_funtion\n",
        "    self.epochs = epochs\n",
        "    self.train_batches = train_batches\n",
        "    self.test_batches = test_batches\n",
        "\n",
        "  \"\"\"Forward method finds the probabilty of each image w.r.t each category and returns it\"\"\"\n",
        "  def forward(self,x):    \n",
        "    x = x.reshape(-1,784)\n",
        "    out = self.linear_layer_1(x)\n",
        "    out = F.relu(out)\n",
        "    p = self.linear_layer_2(out)\n",
        "    return p\n",
        "  \n",
        "  \"\"\"Cross Entropy is generally used at a place where multiple classes are present, every input is in a form of minibatch and output is also a minibatch\"\"\"\n",
        "  def __training_step(self,batch):\n",
        "    loss=0\n",
        "    images,labels = batch\n",
        "    out = self(images)\n",
        "    loss = F.cross_entropy(out,labels)\n",
        "    return loss\n",
        "\n",
        "  def __validation_step(self,batch):\n",
        "    images, labels = batch\n",
        "    out = self(images)\n",
        "    loss = F.cross_entropy(out,labels)\n",
        "    acc = self.__accuracy(out,labels)\n",
        "    return {0:loss,1:acc}\n",
        "  \n",
        "  def __accuracy(self,out,label):\n",
        "    _,pred = torch.max(out,dim=1)\n",
        "    return torch.sum(label==pred).item() / len(pred)\n",
        "\n",
        "  def fit(self):\n",
        "    optimizer = self.optimization_funtion(self.parameters(),self.learning_rate)\n",
        "    for epoch in range(self.epochs):\n",
        "      for batch in self.train_batches:\n",
        "        loss = self.__training_step(batch)\n",
        "        loss.backward()\n",
        "        optimizer.step()\n",
        "        optimizer.zero_grad()\n",
        "\n",
        "      if epoch%10==0:   #test how good the model is doing after every 10 epochs\n",
        "        loss=0\n",
        "        acc=0\n",
        "        for batch in self.test_batches:\n",
        "          o_p = self.__validation_step(batch)\n",
        "          loss += o_p[0]\n",
        "          acc += o_p[1]\n",
        "        loss=loss/len(self.test_batches)\n",
        "        acc =acc/len(self.test_batches)\n",
        "        print('Loss is {0:1.4f} and Accuracy {1:1.4f} of the model at epoch {2}'.format(loss,acc,epoch))\n",
        "        print(\"===================================================================================\")\n"
      ],
      "metadata": {
        "id": "BNERy-RLDrCs"
      },
      "execution_count": null,
      "outputs": []
    },
    {
      "cell_type": "code",
      "source": [
        "\n",
        "# MM.fit()"
      ],
      "metadata": {
        "id": "iCkSAAmxmSDS"
      },
      "execution_count": null,
      "outputs": []
    },
    {
      "cell_type": "code",
      "source": [
        "for i in MM.parameters():\n",
        "  print(i.shape)"
      ],
      "metadata": {
        "colab": {
          "base_uri": "https://localhost:8080/"
        },
        "id": "pANmk5uTrg35",
        "outputId": "a882297b-137f-4eb8-d8b4-e7ab26f06227"
      },
      "execution_count": null,
      "outputs": [
        {
          "output_type": "stream",
          "name": "stdout",
          "text": [
            "torch.Size([32, 784])\n",
            "torch.Size([32])\n",
            "torch.Size([10, 32])\n",
            "torch.Size([10])\n"
          ]
        }
      ]
    },
    {
      "cell_type": "code",
      "source": [
        "torch.cuda.is_available()"
      ],
      "metadata": {
        "colab": {
          "base_uri": "https://localhost:8080/"
        },
        "id": "ZeKoZ8SUtY8h",
        "outputId": "48fba0ec-a7ff-43f0-8b9f-5f4fdfcad5e5"
      },
      "execution_count": null,
      "outputs": [
        {
          "output_type": "execute_result",
          "data": {
            "text/plain": [
              "True"
            ]
          },
          "metadata": {},
          "execution_count": 21
        }
      ]
    },
    {
      "cell_type": "code",
      "source": [
        "device = torch.device('cuda')"
      ],
      "metadata": {
        "id": "fsMDAPlTtrjn"
      },
      "execution_count": null,
      "outputs": []
    },
    {
      "cell_type": "markdown",
      "source": [
        "##Load the data in the GPU"
      ],
      "metadata": {
        "id": "-n8ci_QCkWer"
      }
    },
    {
      "cell_type": "code",
      "source": [
        "class DeviceDataLoader():\n",
        "    \"\"\"Wrap a dataloader to move data to a device\"\"\"\n",
        "    def __init__(self, dl, device):\n",
        "        self.dl = dl\n",
        "        self.device = device\n",
        "        \n",
        "    def __iter__(self):\n",
        "        \"\"\"Yield a batch of data after moving it to device\"\"\"\n",
        "        for b in self.dl: \n",
        "            yield to_device(b, self.device)\n",
        "\n",
        "    def __len__(self):\n",
        "        \"\"\"Number of batches\"\"\"\n",
        "        return len(self.dl)"
      ],
      "metadata": {
        "id": "D1oRPad4udeQ"
      },
      "execution_count": null,
      "outputs": []
    },
    {
      "cell_type": "code",
      "source": [
        "#Generator can yield the batches on demand.\n",
        "train_loader = DeviceDataLoader(train_loader, device)\n",
        "test_loader = DeviceDataLoader(test_loader, device)"
      ],
      "metadata": {
        "id": "PRxbGD-Auvtp"
      },
      "execution_count": null,
      "outputs": []
    },
    {
      "cell_type": "code",
      "source": [
        "def to_device(data, device):\n",
        "    \"\"\"Move tensor(s) to chosen device\"\"\"\n",
        "    if isinstance(data, (list,tuple)):\n",
        "        return [to_device(x, device) for x in data]\n",
        "    return data.to(device, non_blocking=True)\n",
        "\n",
        "to_device(MM, device)"
      ],
      "metadata": {
        "colab": {
          "base_uri": "https://localhost:8080/"
        },
        "id": "lnbYz4elu_rZ",
        "outputId": "99e0bc2e-71ab-4049-e688-60044d18fff0"
      },
      "execution_count": null,
      "outputs": [
        {
          "output_type": "execute_result",
          "data": {
            "text/plain": [
              "MNISTmodel(\n",
              "  (linear_layer_1): Linear(in_features=784, out_features=32, bias=True)\n",
              "  (linear_layer_2): Linear(in_features=32, out_features=10, bias=True)\n",
              ")"
            ]
          },
          "metadata": {},
          "execution_count": 27
        }
      ]
    },
    {
      "cell_type": "code",
      "source": [
        "MM = MNISTmodel(in_feature=input_size,\n",
        "                out_feature=num_classes,\n",
        "                learning_rate=1e-3,\n",
        "                optimization_funtion=torch.optim.SGD,\n",
        "                train_batches = train_loader,\n",
        "                test_batches = test_loader,\n",
        "                hidden_nodes=32)\n",
        "to_device(MM, device)\n",
        "MM.fit()"
      ],
      "metadata": {
        "colab": {
          "base_uri": "https://localhost:8080/"
        },
        "id": "eXAv-jCwvheA",
        "outputId": "2b40ce92-10a8-4a55-9c71-a56e3201a378"
      },
      "execution_count": null,
      "outputs": [
        {
          "output_type": "stream",
          "name": "stdout",
          "text": [
            "Loss is 2.2506 and Accuracy 0.1895 of the model at epoch 0\n",
            "===================================================================================\n",
            "Loss is 1.2266 and Accuracy 0.7689 of the model at epoch 10\n",
            "===================================================================================\n",
            "Loss is 0.7093 and Accuracy 0.8365 of the model at epoch 20\n",
            "===================================================================================\n",
            "Loss is 0.5448 and Accuracy 0.8646 of the model at epoch 30\n",
            "===================================================================================\n",
            "Loss is 0.4679 and Accuracy 0.8804 of the model at epoch 40\n",
            "===================================================================================\n",
            "Loss is 0.4237 and Accuracy 0.8886 of the model at epoch 50\n",
            "===================================================================================\n",
            "Loss is 0.3953 and Accuracy 0.8940 of the model at epoch 60\n",
            "===================================================================================\n",
            "Loss is 0.3754 and Accuracy 0.8970 of the model at epoch 70\n",
            "===================================================================================\n",
            "Loss is 0.3604 and Accuracy 0.8992 of the model at epoch 80\n",
            "===================================================================================\n",
            "Loss is 0.3486 and Accuracy 0.9018 of the model at epoch 90\n",
            "===================================================================================\n"
          ]
        }
      ]
    }
  ]
}
